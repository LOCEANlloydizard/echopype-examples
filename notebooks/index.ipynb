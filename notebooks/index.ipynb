{
 "cells": [
  {
   "cell_type": "markdown",
   "id": "b96cccc8-ba4c-4ae2-bf72-c046869ea406",
   "metadata": {},
   "source": [
    "# Echopype examples notebooks\n",
    "\n",
    "https://github.com/OSOceanAcoustics/echopype-examples/"
   ]
  },
  {
   "cell_type": "markdown",
   "id": "0cc7ab5f-e17d-46a8-9518-a86af01fd3fa",
   "metadata": {},
   "source": [
    "- [ms_PacificHake_EK60_cruisetracks.ipynb](ms_PacificHake_EK60_cruisetracks.ipynb). Exploring ship echosounder data from the Pacific Hake survey. Goals:\n",
    "    1. Illustrate a common workflow for echosounder data conversion, calibration and use.\n",
    "    2. Extract and visualize echosounder data (EK60) with relative ease using geospatial and temporal filters. \n",
    "- [ms_OOI_EK60_mooringtimeseries.ipynb](ms_OOI_EK60_mooringtimeseries.ipynb). Wacthing a solar eclipse using a moored echosounder. Goals:\n",
    "    1. Illustrate a common workflow for echosounder data conversion, calibration and use.\n",
    "    2. Demonstrate the ease to interoperate echosounder data (EK60) with those from a different instrument in a single computing environment. Without echopype, additional wrangling across more than one software systems is needed to achieve the same visualization and comparison."
   ]
  }
 ],
 "metadata": {
  "kernelspec": {
   "display_name": "Python 3 (ipykernel)",
   "language": "python",
   "name": "python3"
  },
  "language_info": {
   "codemirror_mode": {
    "name": "ipython",
    "version": 3
   },
   "file_extension": ".py",
   "mimetype": "text/x-python",
   "name": "python",
   "nbconvert_exporter": "python",
   "pygments_lexer": "ipython3",
   "version": "3.9.7"
  }
 },
 "nbformat": 4,
 "nbformat_minor": 5
}
